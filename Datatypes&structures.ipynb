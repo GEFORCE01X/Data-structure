{
  "nbformat": 4,
  "nbformat_minor": 0,
  "metadata": {
    "colab": {
      "provenance": []
    },
    "kernelspec": {
      "name": "python3",
      "display_name": "Python 3"
    },
    "language_info": {
      "name": "python"
    }
  },
  "cells": [
    {
      "cell_type": "markdown",
      "source": [
        "#Data types and structures questons"
      ],
      "metadata": {
        "id": "Jw5S1_q4MZsD"
      }
    },
    {
      "cell_type": "markdown",
      "source": [
        "1. What are data structures, and why are they important?\n",
        "  -> Data structures are specialized format for organizing, storing, and accessing collections, of data. They provide efficient ways to manage information based on its characteristics and intended use.\n",
        "   \n",
        "2. Explain the difference between mutable and immutable data types with examples?\n",
        "  -> In Python, mutable data types can be changed after creation, while immutable types cannot. For example, lists, dictionaries, and sets are mutable- you can add or remove items without changing their memory location. on the other hand, strings, integers, floats, and tuples are immutable-any change creates a new object.\n",
        "  Example: Mutable (list):\n",
        "      a = [1,2,3]\n",
        "      a.append(4)\n",
        "      print(a) #output:[1,2,3,4]\n",
        "          immutable(string):\n",
        "      s = \"hello\"\n",
        "      s s+\"world\"\n",
        "      print(s) #output: \"hello world\"\n",
        "\n",
        "3. What are the main differences between lists and tuples in Python?\n",
        "  -> The main difference between lists and tuples in python is that lists are mutable collections of elements while tuples are immutable collections of elements.       "
      ],
      "metadata": {
        "id": "zVxSWcZ4Mk5L"
      }
    },
    {
      "cell_type": "markdown",
      "source": [
        "4. Describe how dictionaries store data?\n",
        "  -> dictionaries stores data in the form of key-value pairs.it works like a real life dictionary where a word (key) is linked to its maning(value). Each key in a dictionary is unique and is used to quickly access the corresponding value.\n",
        "   \n",
        "5. Why might you use a set instead of a list in python?\n",
        "  ->  a Python set instead of a list when your primary concern is ensuring uniqueness among elements. Unlike lists, sets automatically discard duplicate values, making them ideal for tasks like gathering all unique items from a collection. Another major advantage of sets is their speed for membership testing; checking if an item exists within a set is significantly faster (average O(1) time complexity) than doing so in a list (average O(n) time complexity), especially for large datasets. Furthermore, sets offer efficient built-in operations for mathematical set theory, such as union, intersection, and difference, which are much more cumbersome to perform with lists. However, it's important to remember that sets are unordered and do not support indexing, so if element order or access by position is crucial, a list remains the better choice.\n",
        "\n",
        "6. What is a string in Python, and how is it different from a list?\n",
        "  ->A string in Python is an immutable sequence of characters, used for text, and defined using quotes. It's fundamentally different from a list, which is a mutable, ordered collection of items enclosed in square brackets. While strings are specifically for text and cannot be altered once created, lists are versatile, allowing for the addition, removal, or modification of elements of any data type. In essence, strings are fixed text, whereas lists are flexible containers.\n",
        "\n",
        "7. How do tuples ensure data integrity in Python?\n",
        "  ->Tuples ensure data integrity in Python primarily through their immutability. Once a tuple is created, its elements cannot be changed, added, or removed. This \"fixed\" nature means that data stored in a tuple is protected from accidental modification, making them ideal for representing constant values or data that should not be altered during program execution.\n",
        "   \n",
        "8. What is a hash table, and how does it relate to dictionaries in Python?\n",
        "  ->A hash table is a fundamental data structure that stores key-value pairs. Its core principle is to use a hash function to take a key and compute an index, or \"hash,\" which points to a location in an array where the corresponding value is stored. This allows for extremely fast lookups, insertions, and deletions—on average, these operations take constant time (O(1)), regardless of the number of items in the table. When two different keys produce the same hash, it's called a collision, which the hash table must have a strategy to handle.\n",
        "\n",
        "In Python, a dictionary is the built-in, high-level implementation of a hash table. While you interact with a dict using its familiar key-value syntax (my_dict['key'] = 'value'), Python uses a sophisticated hash table behind the scenes to manage and organize the data. This is why dictionary keys must be \"hashable\"—they must be immutable objects (like strings, numbers, or tuples) that can produce a consistent hash value. The efficiency and speed of Python dictionaries, a core feature of the language, are a direct result of their hash table implementation.\n",
        "\n",
        "9. Can lists contain different data types in Python?\n",
        "  ->Yes, absolutely! Lists in Python are designed to be highly flexible and can contain elements of different data types within the same list.\n",
        "\n",
        "10. Explain why strings are immutable in Python?\n",
        "  -> Strings are immutable in Python, meaning that once a string object is created, its content cannot be changed. This design choice offers several significant benefits:\n",
        "\n",
        "Hashability and Dictionary Keys: Immutability allows strings to be \"hashable,\" which means they can be used as keys in dictionaries. A hash value is computed based on the string's content, and if the string could change, its hash value would also change, making it impossible to reliably retrieve values from a dictionary.\n",
        "\n",
        "Performance Optimization: Python can implement various optimizations because it knows strings won't change. For example, it can \"intern\" commonly used small strings, storing only one copy in memory and having multiple variables point to it. This reduces memory usage and speeds up string comparisons.\n",
        "\n",
        "\n",
        "\n",
        "Thread Safety: In multi-threaded environments, immutable objects are inherently thread-safe. Multiple threads can access and read the same string simultaneously without the risk of one thread modifying it while another is reading it, preventing data corruption and simplifying concurrency.\n",
        "\n",
        "Predictability and Security: Immutability leads to more predictable code. You can pass a string to a function with confidence that the function won't accidentally alter the original string's content. This also contributes to security by preventing unexpected modifications, especially in scenarios like validating user input.\n",
        "\n",
        "Ease of Use: While it might seem counterintuitive at first, immutability often simplifies string manipulation. Instead of modifying parts of a string in place, operations like concatenation or slicing return new strings. This approach aligns with functional programming principles and can make code cleaner and easier to reason about, as you're always working with fresh, untainted data. If you need a \"modified\" version of a string, you simply create a new one based on the original.\n",
        "\n",
        "11. What advantages do dictionaries offer over lists for certain tasks?\n",
        "  -> Dictionaries offer several key advantages over lists for specific tasks:\n",
        "\n",
        "Fast Lookups by Key: Dictionaries use a hash table internally, allowing for extremely rapid (average O(1) time complexity) retrieval of values based on their unique keys. In contrast, finding an item in a list often requires iterating through it (average O(n)).\n",
        "\n",
        "\n",
        "Meaningful Data Association: They store data as key-value pairs, letting you associate descriptive names (keys) with values (e.g., person['name'] instead of person[0]). This makes code more readable and self-documenting, especially when dealing with structured data or records.\n",
        "\n",
        "No Positional Dependence: Unlike lists where order matters for indexing, dictionary elements are accessed by their key, not their numerical position. This is ideal when the relative order of items is irrelevant, but their specific identifier is crucial.\n",
        "\n",
        "Unique Keys: Dictionary keys must be unique, inherently preventing duplicate entries for the same identifier, which can be useful for managing distinct records.\n",
        "\n",
        "12.Describe a scenario where using a tuple would be preferable over a list.\n",
        "  ->A scenario where using a tuple would be preferable over a list is when you need to represent a fixed collection of related items that should not change throughout your program's execution.\n",
        "\n",
        "Example Scenario: Storing Geographic Coordinates\n",
        "\n",
        "Imagine you are developing a mapping application and need to store the latitude and longitude of various points of interest.\n",
        "\n",
        "Using a List (less ideal): location = [28.6139, 77.2090]\n",
        "\n",
        "While this works, a list is mutable. There's a risk that somewhere later in the code, location[0] or location[1] could accidentally be changed, leading to incorrect coordinates for that specific point.\n",
        "\n",
        "Using a Tuple (preferable): location = (28.6139, 77.2090)\n",
        "\n",
        "By using a tuple, you immediately convey that these two values (latitude and longitude) are inextricably linked as a single, unchangeable unit. If any part of the coordinate were accidentally assigned a new value (e.g., location[0] = 30.0), Python would raise an TypeError, immediately alerting you to the unintended modification. This ensures data integrity for this specific pair of coordinates.\n",
        "\n",
        "Why Tuple is Preferable Here:\n",
        "\n",
        "Immutability: Coordinates (latitude, longitude) are fundamentally fixed values for a given point. Their immutability ensures they remain consistent and uncorrupted.\n",
        "\n",
        "Data Integrity: It prevents accidental modification of the individual coordinate values.\n",
        "\n",
        "Performance & Memory (Minor): Tuples can sometimes be marginally more efficient in terms of memory and performance compared to lists because their size and content are fixed.\n",
        "\n",
        "Semantic Clarity: Using a tuple clearly communicates to other developers (and your future self) that this collection of items is meant to be constant and treated as a single, unchangeable entity.\n",
        "\n",
        "13.How do sets handle duplicate values in Python?\n",
        "  ->Sets in Python inherently do not allow duplicate values. When you try to add an element that already exists in a set, the set simply ignores the new addition. It won't raise an error, nor will it add another copy of the element. This characteristic makes sets incredibly useful for tasks where you need to extract or maintain a collection of only unique items.\n",
        "\n",
        "14.How does the “in” keyword work differently for lists and dictionaries?\n",
        "  ->The in keyword in Python is a membership operator that checks for the presence of an item within a collection. However, its behavior differs significantly between lists and dictionaries due to how these data structures are organized:\n",
        "\n",
        "For Lists: When you use item in my_list, the in keyword checks if item is present as one of the values in the list. Python will typically perform a linear search, checking each element in the list sequentially until it finds a match or reaches the end. This means the time complexity for a lookup is, on average, O(n) (linear time), where 'n' is the number of elements in the list.\n",
        "\n",
        "For Dictionaries: When you use key in my_dictionary, the in keyword checks if key is present as one of the keys in the dictionary. It does not check for values. Because dictionaries are implemented using hash tables, this lookup is extremely fast, typically taking O(1) (constant time) on average, regardless of the size of the dictionary.\n",
        "\n",
        "In summary, in checks for values in lists (linear search) and keys in dictionaries (hash-based lookup).\n",
        "\n",
        "15. Can you modify the elements of a tuple? Explain why or why not.\n",
        "  ->No, you cannot modify the elements of a tuple after it has been created. This is because tuples are immutable data types in Python.\n",
        "\n",
        "Once a tuple is defined, its size and the values of its individual elements are fixed. Any attempt to change an element (e.g., my_tuple[0] = 'new_value') will result in a TypeError.\n",
        "\n",
        "Why not?\n",
        "\n",
        "The immutability of tuples is a design choice with several benefits:\n",
        "\n",
        "Data Integrity: It guarantees that the data within the tuple remains constant and uncorrupted throughout the program's execution. This is crucial when you want to ensure that a set of related values isn't accidentally altered.\n",
        "\n",
        "Hashability: Because their content is fixed, tuples can be \"hashed\" (a unique numerical value can be consistently generated from their contents). This property allows them to be used as keys in dictionaries and elements in sets, where mutable objects are not allowed.\n",
        "\n",
        "Thread Safety: In concurrent programming, immutable objects are inherently thread-safe as they cannot be modified by multiple threads simultaneously, simplifying synchronization concerns.\n",
        "\n",
        "Performance: Python can make certain internal optimizations with immutable objects, as it knows their state won't change.\n",
        "\n",
        "If you need a collection of items that can be modified, a list would be the appropriate data structure to use instead.\n",
        "\n",
        "16.What is a nested dictionary, and give an example of its use case?\n",
        "  ->The in keyword in Python is a membership operator that checks for the presence of an item within a collection. However, its behavior differs significantly between lists and dictionaries due to how these data structures are organized:\n",
        "\n",
        "For Lists: When you use item in my_list, the in keyword checks if item is present as one of the values in the list. Python will typically perform a linear search, checking each element in the list sequentially until it finds a match or reaches the end. This means the time complexity for a lookup is, on average, O(n) (linear time), where 'n' is the number of elements in the list.\n",
        "\n",
        "For Dictionaries: When you use key in my_dictionary, the in keyword checks if key is present as one of the keys in the dictionary. It does not check for values. Because dictionaries are implemented using hash tables, this lookup is extremely fast, typically taking O(1) (constant time) on average, regardless of the size of the dictionary.\n",
        "\n",
        "In summary, in checks for values in lists (linear search) and keys in dictionaries (hash-based lookup).\n",
        "\n",
        " Can you modify the elements of a tuple? Explain why or why not.\n",
        "\n",
        "\n",
        "\n",
        "No, you cannot modify the elements of a tuple after it has been created. This is because tuples are immutable data types in Python.\n",
        "\n",
        "Once a tuple is defined, its size and the values of its individual elements are fixed. Any attempt to change an element (e.g., my_tuple[0] = 'new_value') will result in a TypeError.\n",
        "\n",
        "Why not?\n",
        "\n",
        "The immutability of tuples is a design choice with several benefits:\n",
        "\n",
        "Data Integrity: It guarantees that the data within the tuple remains constant and uncorrupted throughout the program's execution. This is crucial when you want to ensure that a set of related values isn't accidentally altered.\n",
        "\n",
        "Hashability: Because their content is fixed, tuples can be \"hashed\" (a unique numerical value can be consistently generated from their contents). This property allows them to be used as keys in dictionaries and elements in sets, where mutable objects are not allowed.\n",
        "\n",
        "Thread Safety: In concurrent programming, immutable objects are inherently thread-safe as they cannot be modified by multiple threads simultaneously, simplifying synchronization concerns.\n",
        "\n",
        "Performance: Python can make certain internal optimizations with immutable objects, as it knows their state won't change.\n",
        "\n",
        "If you need a collection of items that can be modified, a list would be the appropriate data structure to use instead.\n",
        "\n",
        "\n",
        "What is a nested dictionary, and give an example of its use case\n",
        "\n",
        "\n",
        "\n",
        "A nested dictionary is a dictionary where the values associated with some of its keys are themselves other dictionaries. It's essentially a dictionary within a dictionary, allowing you to create hierarchical or structured data.\n",
        "\n",
        "\n",
        "Example Use Case: Storing Student Information with Subjects and Grades\n",
        "\n",
        "Imagine you need to store data for multiple students. For each student, you want their age, and then for each subject they take, you want to store their grade.\n",
        "\n",
        "Python\n",
        "\n",
        "students_data = {\n",
        "    \"Alice\": {\n",
        "        \"age\": 16,\n",
        "        \"grades\": {\n",
        "            \"Math\": \"A\",\n",
        "            \"Science\": \"B+\",\n",
        "            \"History\": \"A-\"\n",
        "        }\n",
        "    },\n",
        "    \"Bob\": {\n",
        "        \"age\": 17,\n",
        "        \"grades\": {\n",
        "            \"Math\": \"B\",\n",
        "            \"Science\": \"A\",\n",
        "            \"Art\": \"C\"\n",
        "        }\n",
        "    },\n",
        "    \"Charlie\": {\n",
        "        \"age\": 16,\n",
        "        \"grades\": {\n",
        "            \"Math\": \"A-\",\n",
        "            \"English\": \"B+\",\n",
        "            \"Physics\": \"A\"\n",
        "        }\n",
        "    }\n",
        "}\n",
        "\n",
        "# How to access data:\n",
        "print(students_data[\"Alice\"][\"age\"])             # Output: 16\n",
        "print(students_data[\"Bob\"][\"grades\"][\"Science\"]) # Output: A\n",
        "\n",
        "# Add a new grade for Charlie\n",
        "students_data[\"Charlie\"][\"grades\"][\"Chemistry\"] = \"B\"\n",
        "print(students_data[\"Charlie\"][\"grades\"]) # Output: {'Math': 'A-', 'English': 'B+', 'Physics': 'A', 'Chemistry': 'B'}\n",
        "Explanation of Use Case:\n",
        "\n",
        "In this example:\n",
        "\n",
        "The outer dictionary students_data uses student names (e.g., \"Alice\", \"Bob\") as its primary keys.\n",
        "\n",
        "The value for each student's name is another dictionary.\n",
        "\n",
        "This inner dictionary contains keys like \"age\" and \"grades\".\n",
        "\n",
        "Crucially, the value for the \"grades\" key is yet another dictionary, where subject names (e.g., \"Math\", \"Science\") are keys, and their corresponding grades are values.\n",
        "\n",
        "This structure clearly and logically organizes complex, hierarchical data. It allows for easy access to specific pieces of information (e.g., \"What was Bob's grade in Science?\") and makes the data model intuitive.\n",
        "\n",
        "17.Describe the time complexity of accessing elements in a dictionary?\n",
        "  ->The time complexity of accessing elements in a Python dictionary is, on average, O(1) (constant time).\n",
        "\n",
        "This excellent performance is due to dictionaries being implemented as hash tables. When you access an element using its key (e.g., my_dict['some_key']), Python uses a hash function to quickly calculate a memory address where the corresponding value is likely stored. This direct calculation means that, in most cases, the time it takes to find the element does not increase as the size of the dictionary grows.\n",
        "\n",
        "However, in the worst-case scenario, the time complexity can degrade to O(n) (linear time), where 'n' is the number of elements in the dictionary. This typically happens when there are many hash collisions (multiple different keys produce the same hash value) and the collision resolution strategy involves a linear search through a linked list of colliding entries. While possible, Python's sophisticated hash function and collision resolution techniques make this worst-case scenario very rare in practical applications.\n",
        "\n",
        "18. In what situations are lists preferred over dictionaries?\n",
        "  ->While dictionaries offer powerful key-value mapping and fast lookups, lists are preferred in several situations:\n",
        "\n",
        "When Order Matters (and you need to preserve it): Lists maintain the insertion order of elements. If the sequence of items is significant (e.g., a sequence of events, a playlist, items in a shopping cart where their order might affect display), a list is the natural choice. Although dictionaries preserve insertion order from Python 3.7+, lists still provide more robust features related to ordered sequences (like slicing by index).\n",
        "\n",
        "\n",
        "When you need to access elements by their integer index: Lists are inherently indexed from 0. If you primarily access items by their numerical position (e.g., the first item, the fifth item), lists provide straightforward and efficient access using my_list[index].\n",
        "\n",
        "\n",
        "When you need to store duplicate values: Lists allow duplicate elements. If your collection needs to contain multiple instances of the same item (e.g., a list of all votes cast, where multiple people might vote for the same candidate), a list is appropriate. Dictionaries, by design, have unique keys.\n",
        "\n",
        "When you need to perform sequential operations or iterate through all items: Lists are well-suited for iterating through all elements, performing operations on each in sequence, or for tasks like sorting the entire collection.\n",
        "\n",
        "When you don't need descriptive labels for your data: If the items in your collection don't logically require a unique, descriptive key to identify them, and a simple numerical order is sufficient, lists are simpler and often more memory-efficient than dictionaries. For example, a list of student names or a list of numbers.\n",
        "\n",
        "In essence, use a list when you care about the order of items, need to access them by numerical position, or need to allow duplicates. Use a dictionary when you need to map values to unique, descriptive keys and require fast lookups based on those keys.\n",
        "\n",
        "19.Why are dictionaries considered unordered, and how does that affect data retrieval?\n",
        "  ->Historically, Python dictionaries were considered unordered because their internal implementation (a hash table) did not guarantee any specific order for the key-value pairs. This meant that if you iterated over a dictionary or printed it, the order of items might not be the same as the order in which they were inserted, and it could even vary between different runs of the program or different Python versions.\n",
        "\n",
        "However, this changed significantly with Python 3.7+. Modern Python dictionaries do maintain insertion order as a language feature. So, if you add items 'a', then 'b', then 'c', they will always appear in that order when you iterate through the dictionary.\n",
        "\n",
        "Despite this change, they are still conceptually referred to as \"unordered\" in certain contexts and for specific reasons:\n",
        "\n",
        "No Positional Access: Unlike lists, you still cannot access dictionary elements by an integer index (e.g., my_dict[0]). Access is always by key. This is the primary distinction from ordered sequence types like lists.\n",
        "\n",
        "Semantic Meaning: The \"order\" in a dictionary is a side-effect of its highly optimized hash table design, which prioritizes fast key-based lookups (O(1) average). The purpose of a dictionary isn't to store a sequence, but to map keys to values.\n",
        "\n",
        "Backward Compatibility/Conceptual Model: Many older resources and even some current discussions might still use the \"unordered\" terminology, reflecting its historical behavior or emphasizing its core function over its incidental ordering.\n",
        "\n",
        "Equality Comparison: The order of items in a dictionary does not affect its equality comparison. Two dictionaries with the same key-value pairs are considered equal, regardless of the order in which those pairs were inserted. This contrasts with ordered collections where order does matter for equality.\n",
        "\n",
        "How this affects data retrieval:\n",
        "\n",
        "The \"unordered\" (or rather, non-indexed) nature of dictionaries does not affect the speed of retrieving data by key. Accessing a value using its key (e.g., my_dict['some_key']) is still an extremely fast, average O(1) operation because it relies on the hash function to directly locate the data, not on its position.\n",
        "\n",
        "What it does affect, or historically affected, is when you iterate or display the entire dictionary. Before Python 3.7, you couldn't rely on the order of iteration. Now, you can rely on insertion order for iteration, which is a very convenient feature. However, you still can't use numerical indexing like with lists.\n",
        "\n",
        "20. Explain the difference between a list and a dictionary in terms of data retrieval.\n",
        "  ->The core difference between lists and dictionaries in terms of data retrieval lies in how you identify the element you want to access and the underlying mechanism used to find it.\n",
        "\n",
        "Lists: Positional Retrieval (by Index)\n",
        "\n",
        "How you identify: You retrieve elements from a list by their integer position or index. Indices start from 0 for the first element.\n",
        "\n",
        "Mechanism: When you request my_list[index], Python goes directly to that memory location relative to the start of the list.\n",
        "\n",
        "Time Complexity: Accessing an element by a known index is typically O(1) (constant time), meaning it takes roughly the same amount of time regardless of the list's size.\n",
        "\n",
        "Finding an item by value: If you don't know the index and need to find if a specific value exists (item in my_list), Python performs a linear search, checking elements one by one. This is O(n) (linear time) on average, meaning the time taken grows proportionally with the list's size.\n",
        "\n",
        "Dictionaries: Key-Based Retrieval (by Key)\n",
        "\n",
        "How you identify: You retrieve elements from a dictionary by their unique, descriptive key. Keys can be strings, numbers, tuples, or any immutable data type.\n",
        "\n",
        "Mechanism: Dictionaries are implemented using hash tables. When you request my_dict[key], Python uses a hash function to calculate a memory address based on the key. This directly points to the location of the associated value.\n",
        "\n",
        "Time Complexity: Accessing a value by its key is, on average, O(1) (constant time). This is a significant advantage for large datasets where fast lookups are crucial.\n",
        "\n",
        "Finding a key: Checking if a key exists (key in my_dictionary) is also an average O(1) operation.\n",
        "\n",
        "In summary, lists are optimized for ordered sequences and numerical position-based access, while dictionaries are optimized for associating values with unique, meaningful identifiers and providing extremely fast lookups based on those identifiers.\n",
        "\n",
        "\n"
      ],
      "metadata": {
        "id": "c9VeEm0KQuM1"
      }
    },
    {
      "cell_type": "markdown",
      "source": [],
      "metadata": {
        "id": "H5IcQ-nmMjH-"
      }
    },
    {
      "cell_type": "markdown",
      "source": [
        "#Practical Questios\n"
      ],
      "metadata": {
        "id": "fAdiipTgKuvj"
      }
    },
    {
      "cell_type": "code",
      "source": [
        "#1. Write a code to create a string with your name and print it\n",
        "name = (\"Aditya Dhanraj\")\n",
        "print(name)"
      ],
      "metadata": {
        "colab": {
          "base_uri": "https://localhost:8080/"
        },
        "id": "pHJJbmunK0KS",
        "outputId": "7a10be6e-f397-49ca-d5e9-7888e6cd3a1a"
      },
      "execution_count": null,
      "outputs": [
        {
          "output_type": "stream",
          "name": "stdout",
          "text": [
            "Aditya Dhanraj\n"
          ]
        }
      ]
    },
    {
      "cell_type": "code",
      "source": [
        "#2. Write a code to find the length of the string \"Hello World\"\n",
        "len(\"Hello World\")"
      ],
      "metadata": {
        "colab": {
          "base_uri": "https://localhost:8080/"
        },
        "id": "LqN8xR3GLPTS",
        "outputId": "65831d48-ae10-4714-b9bf-e415123c517f"
      },
      "execution_count": null,
      "outputs": [
        {
          "output_type": "execute_result",
          "data": {
            "text/plain": [
              "11"
            ]
          },
          "metadata": {},
          "execution_count": 4
        }
      ]
    },
    {
      "cell_type": "code",
      "source": [
        "#3. Write a code to slice the first 3 characters from the string \"Python Programming\"\n",
        "char = (\"Python Programming\")\n",
        "char[0:4]"
      ],
      "metadata": {
        "colab": {
          "base_uri": "https://localhost:8080/",
          "height": 35
        },
        "id": "sFIhawqgLb9A",
        "outputId": "5eed247d-840d-4fea-bf50-9110ef18d335"
      },
      "execution_count": null,
      "outputs": [
        {
          "output_type": "execute_result",
          "data": {
            "text/plain": [
              "'Pyth'"
            ],
            "application/vnd.google.colaboratory.intrinsic+json": {
              "type": "string"
            }
          },
          "metadata": {},
          "execution_count": 5
        }
      ]
    },
    {
      "cell_type": "code",
      "source": [
        "#4. Write a code to convert the string \"hello\" to uppercase.\n",
        "string1 = (\"hello\")\n",
        "uppercase_string = string1.upper()\n",
        "uppercase_string"
      ],
      "metadata": {
        "colab": {
          "base_uri": "https://localhost:8080/",
          "height": 35
        },
        "id": "f9iyovGxLuze",
        "outputId": "a3e6a358-e7fa-4841-8a85-997a29de48be"
      },
      "execution_count": null,
      "outputs": [
        {
          "output_type": "execute_result",
          "data": {
            "text/plain": [
              "'HELLO'"
            ],
            "application/vnd.google.colaboratory.intrinsic+json": {
              "type": "string"
            }
          },
          "metadata": {},
          "execution_count": 9
        }
      ]
    },
    {
      "cell_type": "code",
      "source": [
        "\n",
        "#5. Write a code to replace the word \"apple\" with \"orange\" in the string \"I like apple\"\n",
        "neew_text = (\"I like apple\")\n",
        "neew_text = neew_text.replace(\"apple\",\"orange\")\n",
        "print(neew_text)\n"
      ],
      "metadata": {
        "colab": {
          "base_uri": "https://localhost:8080/"
        },
        "id": "8Nodd8jdMpR4",
        "outputId": "53bd472f-254d-4a22-f259-2afd59ea82f9"
      },
      "execution_count": null,
      "outputs": [
        {
          "output_type": "stream",
          "name": "stdout",
          "text": [
            "I like orange\n"
          ]
        }
      ]
    },
    {
      "cell_type": "code",
      "source": [
        "#6. Write a code to create a list with numbers 1 to 5 and print it\n",
        "lst = [1,2,3,4,5]\n",
        "print(lst)"
      ],
      "metadata": {
        "colab": {
          "base_uri": "https://localhost:8080/"
        },
        "id": "4Y8krG5QOoG5",
        "outputId": "03fc6c40-f0ef-4030-9075-4d294f978bf5"
      },
      "execution_count": null,
      "outputs": [
        {
          "output_type": "stream",
          "name": "stdout",
          "text": [
            "[1, 2, 3, 4, 5]\n"
          ]
        }
      ]
    },
    {
      "cell_type": "code",
      "source": [
        "#7. Write a code to append the number 10 to the list [1, 2, 3, 4]\n",
        "list1 = [1,2,3,4]\n",
        "list1.append(10)\n",
        "print(list1)"
      ],
      "metadata": {
        "colab": {
          "base_uri": "https://localhost:8080/"
        },
        "id": "_zlWcTcsPF1v",
        "outputId": "764cf1d8-c9b8-4941-d524-c4545dddb7f1"
      },
      "execution_count": null,
      "outputs": [
        {
          "output_type": "stream",
          "name": "stdout",
          "text": [
            "[1, 2, 3, 4, 10]\n"
          ]
        }
      ]
    },
    {
      "cell_type": "code",
      "source": [
        "#8. Write a code to remove the number 3 from the list [1, 2, 3, 4, 5]\n",
        "lst = [1,2,3,4,5]\n",
        "lst.remove(3)\n",
        "print(lst)"
      ],
      "metadata": {
        "colab": {
          "base_uri": "https://localhost:8080/"
        },
        "id": "ebBKqVrHP0I5",
        "outputId": "3a21a86f-0375-42a8-d25c-94331efdb0e6"
      },
      "execution_count": null,
      "outputs": [
        {
          "output_type": "stream",
          "name": "stdout",
          "text": [
            "[1, 2, 4, 5]\n"
          ]
        }
      ]
    },
    {
      "cell_type": "code",
      "source": [
        "#9. Write a code to access the second element in the list ['a', 'b', 'c', 'd']\n",
        "original_list = ['a','b','c','d']\n",
        "print(original_list[1])"
      ],
      "metadata": {
        "colab": {
          "base_uri": "https://localhost:8080/"
        },
        "id": "kxavfuT6QH_W",
        "outputId": "6ab06d1c-8655-488c-c5c8-b4a11eb7fe12"
      },
      "execution_count": null,
      "outputs": [
        {
          "output_type": "stream",
          "name": "stdout",
          "text": [
            "b\n"
          ]
        }
      ]
    },
    {
      "cell_type": "code",
      "source": [
        "#10. Write a code to reverse the list [10, 20, 30, 40, 50]\n",
        "order = [10,20,30,40,50]\n",
        "print(order[::-1])"
      ],
      "metadata": {
        "colab": {
          "base_uri": "https://localhost:8080/"
        },
        "id": "w7mddR9vQx5G",
        "outputId": "9a3df941-edbe-466e-8c35-ab322d3f8d0c"
      },
      "execution_count": null,
      "outputs": [
        {
          "output_type": "stream",
          "name": "stdout",
          "text": [
            "[50, 40, 30, 20, 10]\n"
          ]
        }
      ]
    },
    {
      "cell_type": "code",
      "source": [
        "#11. Write a code to create a tuple with the elements 100, 200, 300 and print it.\n",
        "my_tuple = (100,200,300)\n",
        "print(my_tuple)"
      ],
      "metadata": {
        "colab": {
          "base_uri": "https://localhost:8080/"
        },
        "id": "76KWQCs5RIYA",
        "outputId": "0b895732-afd5-457b-e5aa-22aef06162f9"
      },
      "execution_count": null,
      "outputs": [
        {
          "output_type": "stream",
          "name": "stdout",
          "text": [
            "(100, 200, 300)\n"
          ]
        }
      ]
    },
    {
      "cell_type": "code",
      "source": [
        "#12.  Write a code to access the second-to-last element of the tuple ('red', 'green', 'blue', 'yellow')\n",
        "tuple1 = ('red','green','blue','yellow')\n",
        "print(tuple1[2:4])"
      ],
      "metadata": {
        "colab": {
          "base_uri": "https://localhost:8080/"
        },
        "id": "r7uB5AWiRdo2",
        "outputId": "066003c5-9f74-45b9-8603-0a7a99bb025f"
      },
      "execution_count": null,
      "outputs": [
        {
          "output_type": "stream",
          "name": "stdout",
          "text": [
            "('blue', 'yellow')\n"
          ]
        }
      ]
    },
    {
      "cell_type": "code",
      "source": [
        "#13. Write a code to find the minimum number in the tuple (10, 20, 5, 15)\n",
        "tuples = (10,20,5,15)\n",
        "print(min(tuples))"
      ],
      "metadata": {
        "colab": {
          "base_uri": "https://localhost:8080/"
        },
        "id": "AHrtNY0DR2_O",
        "outputId": "2c62513b-3c50-47c2-ad9b-7e4d3eb77ce8"
      },
      "execution_count": null,
      "outputs": [
        {
          "output_type": "stream",
          "name": "stdout",
          "text": [
            "5\n"
          ]
        }
      ]
    },
    {
      "cell_type": "code",
      "source": [
        "#14. Write a code to find the index of the element \"cat\" in the tuple ('dog', 'cat', 'rabbit')\n",
        "tupl = ('dog','cat','rabbit')\n",
        "print(tupl.index(\"cat\"))"
      ],
      "metadata": {
        "colab": {
          "base_uri": "https://localhost:8080/"
        },
        "id": "L8bHKKncSLCf",
        "outputId": "b8d3cb94-f639-4247-d45f-a9131e9b6153"
      },
      "execution_count": null,
      "outputs": [
        {
          "output_type": "stream",
          "name": "stdout",
          "text": [
            "1\n"
          ]
        }
      ]
    },
    {
      "cell_type": "code",
      "source": [
        "#15.Write a code to create a tuple containing three different fruits and check if \"kiwi\" is in it\n",
        "fruit_tuple = (\"banana\",\"orange\",\"kiwi\")\n",
        "if \"kiwi\" in fruit_tuple:\n",
        "  print(\"kiwi is in the list\")\n",
        "else:\n",
        "  print(\"kiwi is not in the list\")"
      ],
      "metadata": {
        "colab": {
          "base_uri": "https://localhost:8080/"
        },
        "id": "KKpr3xnwSmOC",
        "outputId": "7627707e-d3ec-40fe-dde4-0e6a272e10e2"
      },
      "execution_count": null,
      "outputs": [
        {
          "output_type": "stream",
          "name": "stdout",
          "text": [
            "kiwi is in the list\n"
          ]
        }
      ]
    },
    {
      "cell_type": "code",
      "source": [
        "#16. Write a code to create a set with the elements 'a', 'b', 'c' and print it\n",
        "element1 = {\"'a','b','c'\"}\n",
        "print(element1)"
      ],
      "metadata": {
        "colab": {
          "base_uri": "https://localhost:8080/"
        },
        "id": "Vry0kbuFTYrp",
        "outputId": "1730a290-4644-4e2f-c27c-bdc2242f9ccb"
      },
      "execution_count": null,
      "outputs": [
        {
          "output_type": "stream",
          "name": "stdout",
          "text": [
            "{\"'a','b','c'\"}\n"
          ]
        }
      ]
    },
    {
      "cell_type": "code",
      "source": [
        "#17. . Write a code to clear all elements from the set {1, 2, 3, 4, 5}\n",
        "set1 = {1,2,3,4,5}\n",
        "new_set = set1.clear()\n",
        "print(new_set)"
      ],
      "metadata": {
        "colab": {
          "base_uri": "https://localhost:8080/"
        },
        "id": "wOjCX4-qT0w_",
        "outputId": "2d6acca7-345a-4eb8-a92b-8d44e9a2f728"
      },
      "execution_count": null,
      "outputs": [
        {
          "output_type": "stream",
          "name": "stdout",
          "text": [
            "None\n"
          ]
        }
      ]
    },
    {
      "cell_type": "code",
      "source": [
        "#18. Write a code to remove the element 4 from the set {1, 2, 3, 4}\n",
        "code1 = {1,2,3,4}\n",
        "new_code = code1.remove(4)\n",
        "print(code1)"
      ],
      "metadata": {
        "colab": {
          "base_uri": "https://localhost:8080/"
        },
        "id": "jOMb3T4nUIeM",
        "outputId": "dcb6c424-8576-4a04-8eb2-d88616b27dfb"
      },
      "execution_count": null,
      "outputs": [
        {
          "output_type": "stream",
          "name": "stdout",
          "text": [
            "{1, 2, 3}\n"
          ]
        }
      ]
    },
    {
      "cell_type": "code",
      "source": [
        "#19. Write a code to find the union of two sets {1, 2, 3} and {3, 4, 5}\n",
        "set1 = {1,2,3}\n",
        "set2 = {4,5,6}\n",
        "union_set = set1|set2\n",
        "print(union_set)"
      ],
      "metadata": {
        "colab": {
          "base_uri": "https://localhost:8080/"
        },
        "id": "WDwHLh36U4hk",
        "outputId": "effa4f39-1c3f-4515-d8d3-a87f9d7dfa8e"
      },
      "execution_count": null,
      "outputs": [
        {
          "output_type": "stream",
          "name": "stdout",
          "text": [
            "{1, 2, 3, 4, 5, 6}\n"
          ]
        }
      ]
    },
    {
      "cell_type": "code",
      "source": [
        "#20. Write a code to find the intersection of two sets {1, 2, 3} and {2, 3, 4}.\n",
        "set1 = {1,2,3}\n",
        "set2 = {2,3,4}\n",
        "new_set = set1.intersection(set2)\n",
        "print(new_set)"
      ],
      "metadata": {
        "colab": {
          "base_uri": "https://localhost:8080/"
        },
        "id": "SM7akGEqVVr4",
        "outputId": "a48a2464-d2f3-46b2-9a7e-ef31cf7041f5"
      },
      "execution_count": null,
      "outputs": [
        {
          "output_type": "stream",
          "name": "stdout",
          "text": [
            "{2, 3}\n"
          ]
        }
      ]
    },
    {
      "cell_type": "code",
      "source": [
        "#21. Write a code to create a dictionary with the keys \"name\", \"age\", and \"city\", and print it\n",
        "dict1 = {\n",
        "    \"name\": \"Aditya Dhanraj\",\n",
        "     \"age\": \"23\",\n",
        "    \"city\": \"patna\"\n",
        "}\n",
        "print(dict1)\n"
      ],
      "metadata": {
        "colab": {
          "base_uri": "https://localhost:8080/"
        },
        "id": "nNMb3ES1V4Js",
        "outputId": "46bcfe59-222c-4639-d6f5-394fb9157130"
      },
      "execution_count": null,
      "outputs": [
        {
          "output_type": "stream",
          "name": "stdout",
          "text": [
            "{'name': 'Aditya Dhanraj', 'age': '23', 'city': 'patna'}\n"
          ]
        }
      ]
    },
    {
      "cell_type": "code",
      "source": [
        "#22. Write a code to add a new key-value pair \"country\": \"USA\" to the dictionary {'name': 'John', 'age': 25\n",
        "dict1 = {\"name\":\"john\",\"age\":\"25\"}\n",
        "dict1[\"country\"] = \"USA\"\n",
        "print(dict1)"
      ],
      "metadata": {
        "colab": {
          "base_uri": "https://localhost:8080/"
        },
        "id": "QDuztRnHWfuq",
        "outputId": "f8210ce5-d442-416f-bafb-238b4c43b2d7"
      },
      "execution_count": 62,
      "outputs": [
        {
          "output_type": "stream",
          "name": "stdout",
          "text": [
            "{'name': 'john', 'age': '25', 'country': 'USA'}\n"
          ]
        }
      ]
    },
    {
      "cell_type": "code",
      "source": [
        "#23. Write a code to access the value associated with the key \"name\" in the dictionary {'name': 'Alice', 'age': 3\n",
        "new_dict = {'name':'alice','age':'30'}\n",
        "new_dict.values()"
      ],
      "metadata": {
        "colab": {
          "base_uri": "https://localhost:8080/"
        },
        "id": "QrLthaSIYrqr",
        "outputId": "b8c0dc43-98b8-42f2-eb1a-2d785102228e"
      },
      "execution_count": 64,
      "outputs": [
        {
          "output_type": "execute_result",
          "data": {
            "text/plain": [
              "dict_values(['alice', '30'])"
            ]
          },
          "metadata": {},
          "execution_count": 64
        }
      ]
    },
    {
      "cell_type": "code",
      "source": [
        "#24. Write a code to remove the key \"age\" from the dictionary {'name': 'Bob', 'age': 22, 'city': 'New York'\n",
        "dict1 = {'name': 'Bob', 'age': 22, 'city': 'New York'}\n",
        "del dict1[\"age\"]\n",
        "print(dict1)"
      ],
      "metadata": {
        "colab": {
          "base_uri": "https://localhost:8080/"
        },
        "id": "lpJrVcZIZJ78",
        "outputId": "e6e7d561-5883-4e4d-faa0-63f2ef5130b6"
      },
      "execution_count": 66,
      "outputs": [
        {
          "output_type": "stream",
          "name": "stdout",
          "text": [
            "{'name': 'Bob', 'city': 'New York'}\n"
          ]
        }
      ]
    },
    {
      "cell_type": "code",
      "source": [
        "#25.Write a code to check if the key \"city\" exists in the dictionary {'name': 'Alice', 'city': 'Paris'}\n",
        "dict1 = {'name': 'Alice', 'city': 'Paris'}\n",
        "if \"city\" in dict1:\n",
        "  print(\"yes it is in the given dictionary\")\n",
        "else:\n",
        "  print(\"no,it is not in the list\")"
      ],
      "metadata": {
        "colab": {
          "base_uri": "https://localhost:8080/"
        },
        "id": "awDRLJ-LZ4zI",
        "outputId": "7f86bcfd-3382-4e0f-a4ec-131580d85492"
      },
      "execution_count": 68,
      "outputs": [
        {
          "output_type": "stream",
          "name": "stdout",
          "text": [
            "yes it is in the given dictionary\n"
          ]
        }
      ]
    },
    {
      "cell_type": "code",
      "source": [
        "#26. Write a code to create a list, a tuple, and a dictionary, and print them all.\n",
        "list1 = [\"apple\",\"banana\",\"mango\"]\n",
        "tuple1 = (\"patna\",\"bihar\",\"delhi\")\n",
        "dict1 = {'name': 'Aditya', 'age': 22, 'city': 'patna'}\n",
        "print(list1,type(list1))\n",
        "print(tuple1,type(tuple1))\n",
        "print(dict1,type(dict1))"
      ],
      "metadata": {
        "colab": {
          "base_uri": "https://localhost:8080/"
        },
        "id": "1MyxqA3wad3H",
        "outputId": "2f335a7f-0120-4302-a3a7-044d67397bc3"
      },
      "execution_count": 70,
      "outputs": [
        {
          "output_type": "stream",
          "name": "stdout",
          "text": [
            "['apple', 'banana', 'mango'] <class 'list'>\n",
            "('patna', 'bihar', 'delhi') <class 'tuple'>\n",
            "{'name': 'Aditya', 'age': 22, 'city': 'patna'} <class 'dict'>\n"
          ]
        }
      ]
    },
    {
      "cell_type": "code",
      "source": [
        "#27. Write a code to create a list of 5 random numbers between 1 and 100, sort it in ascending order, and print the result.(replaced)\n",
        "import random\n",
        "\n",
        "numbers = random.sample(range(1, 101), 5)  # Generate 5 random numbers between 1 and 100\n",
        "numbers.sort()  # Sort the list in ascending order\n",
        "print(numbers)"
      ],
      "metadata": {
        "colab": {
          "base_uri": "https://localhost:8080/"
        },
        "id": "nxI_BzBHbkG_",
        "outputId": "ced8a24c-44c0-4493-cf7f-e4af1f5b3d10"
      },
      "execution_count": 72,
      "outputs": [
        {
          "output_type": "stream",
          "name": "stdout",
          "text": [
            "[23, 42, 66, 83, 98]\n"
          ]
        }
      ]
    },
    {
      "cell_type": "code",
      "source": [
        "#28. Write a code to create a list with strings and print the element at the third index.\n",
        "fruits = [\"apple\", \"banana\", \"cherry\", \"orange\", \"grape\"]\n",
        "print(fruits[3])"
      ],
      "metadata": {
        "colab": {
          "base_uri": "https://localhost:8080/"
        },
        "id": "rkEAPi2pbPNv",
        "outputId": "e7087948-685a-4f7a-9f85-2575005c2f0d"
      },
      "execution_count": 73,
      "outputs": [
        {
          "output_type": "stream",
          "name": "stdout",
          "text": [
            "orange\n"
          ]
        }
      ]
    },
    {
      "cell_type": "code",
      "source": [
        "#29.. Write a code to combine two dictionaries into one and print the result.\n",
        "# Define two dictionaries\n",
        "dict1 = {'name': 'Dhanraj', 'age': 21}\n",
        "dict2 = {'country': 'India', 'language': 'Hindi'}\n",
        "\n",
        "# Combine the dictionaries\n",
        "combined_dict = {**dict1, **dict2}\n",
        "\n",
        "# Print the result\n",
        "print(\"Combined Dictionary:\", combined_dict)\n"
      ],
      "metadata": {
        "colab": {
          "base_uri": "https://localhost:8080/"
        },
        "id": "uyZw-k0lctmL",
        "outputId": "82046a31-95b3-471e-a434-519f1bc2eea9"
      },
      "execution_count": 74,
      "outputs": [
        {
          "output_type": "stream",
          "name": "stdout",
          "text": [
            "Combined Dictionary: {'name': 'Dhanraj', 'age': 21, 'country': 'India', 'language': 'Hindi'}\n"
          ]
        }
      ]
    },
    {
      "cell_type": "code",
      "source": [
        "#30. Write a code to convert a list of strings into a set\n",
        "# Define a list of strings\n",
        "string_list = ['apple', 'banana', 'apple', 'orange', 'banana']\n",
        "\n",
        "# Convert the list into a set\n",
        "string_set = set(string_list)\n",
        "\n",
        "# Print the result\n",
        "print(\"Set of strings:\", string_set)\n"
      ],
      "metadata": {
        "colab": {
          "base_uri": "https://localhost:8080/"
        },
        "id": "m2KowC5MdAdM",
        "outputId": "9b222f76-e0c8-4fd6-ecc4-131395b0a75e"
      },
      "execution_count": 75,
      "outputs": [
        {
          "output_type": "stream",
          "name": "stdout",
          "text": [
            "Set of strings: {'apple', 'banana', 'orange'}\n"
          ]
        }
      ]
    },
    {
      "cell_type": "code",
      "source": [],
      "metadata": {
        "id": "tLbZVuH2aTuM"
      },
      "execution_count": null,
      "outputs": []
    }
  ]
}